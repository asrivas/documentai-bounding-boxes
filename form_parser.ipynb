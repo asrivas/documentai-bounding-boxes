{
 "cells": [
  {
   "cell_type": "markdown",
   "metadata": {
    "id": "L0J138mj7p1s"
   },
   "source": [
    "# Document AI Form Parser Visualizer\n",
    "This notebook shows you how to analyze a pdf using the Google Cloud DocumentAI API"
   ]
  },
  {
   "cell_type": "code",
   "execution_count": null,
   "metadata": {
    "colab": {
     "base_uri": "https://localhost:8080/"
    },
    "id": "_v0XtSwn7fmN",
    "outputId": "373b9379-f6ac-451a-e428-ad9219fb31d0"
   },
   "outputs": [],
   "source": [
    "# Install necessary Python libraries\n",
    "!pip install google-cloud-documentai\n",
    "!pip install wand\n",
    "!pip install pillo\n",
    "!pip install tabulate\n",
    "\n",
    "!apt-get update\n",
    "!apt-get install libmagickwand-dev"
   ]
  },
  {
   "cell_type": "code",
   "execution_count": 1,
   "metadata": {
    "id": "Y8eO6Kcp7v2x"
   },
   "outputs": [
    {
     "ename": "ImportError",
     "evalue": "cannot import name 'documentai_v1beta3' from 'google.cloud' (unknown location)",
     "output_type": "error",
     "traceback": [
      "\u001b[0;31m---------------------------------------------------------------------------\u001b[0m",
      "\u001b[0;31mImportError\u001b[0m                               Traceback (most recent call last)",
      "\u001b[0;32m<ipython-input-1-b1ac9e302d57>\u001b[0m in \u001b[0;36m<module>\u001b[0;34m\u001b[0m\n\u001b[0;32m----> 1\u001b[0;31m \u001b[0;32mfrom\u001b[0m \u001b[0mgoogle\u001b[0m\u001b[0;34m.\u001b[0m\u001b[0mcloud\u001b[0m \u001b[0;32mimport\u001b[0m \u001b[0mdocumentai_v1beta3\u001b[0m \u001b[0;32mas\u001b[0m \u001b[0mdocumentai\u001b[0m\u001b[0;34m\u001b[0m\u001b[0;34m\u001b[0m\u001b[0m\n\u001b[0m\u001b[1;32m      2\u001b[0m \u001b[0;32mfrom\u001b[0m \u001b[0mwand\u001b[0m\u001b[0;34m.\u001b[0m\u001b[0mimage\u001b[0m \u001b[0;32mimport\u001b[0m \u001b[0mImage\u001b[0m \u001b[0;32mas\u001b[0m \u001b[0mWImage\u001b[0m\u001b[0;34m\u001b[0m\u001b[0;34m\u001b[0m\u001b[0m\n\u001b[1;32m      3\u001b[0m \u001b[0;32mfrom\u001b[0m \u001b[0mPIL\u001b[0m \u001b[0;32mimport\u001b[0m \u001b[0mImage\u001b[0m\u001b[0;34m,\u001b[0m \u001b[0mImageDraw\u001b[0m\u001b[0;34m\u001b[0m\u001b[0;34m\u001b[0m\u001b[0m\n\u001b[1;32m      4\u001b[0m \u001b[0;34m\u001b[0m\u001b[0m\n\u001b[1;32m      5\u001b[0m \u001b[0;32mimport\u001b[0m \u001b[0mos\u001b[0m\u001b[0;34m\u001b[0m\u001b[0;34m\u001b[0m\u001b[0m\n",
      "\u001b[0;31mImportError\u001b[0m: cannot import name 'documentai_v1beta3' from 'google.cloud' (unknown location)"
     ]
    }
   ],
   "source": [
    "from google.cloud import documentai_v1beta3 as documentai\n",
    "from wand.image import Image as WImage\n",
    "from PIL import Image, ImageDraw\n",
    "\n",
    "import os\n",
    "import pandas as pd\n",
    "from tabulate import tabulate"
   ]
  },
  {
   "cell_type": "markdown",
   "metadata": {
    "id": "q83GOFsUHlYA"
   },
   "source": [
    "## Download our sample pdf from GCS"
   ]
  },
  {
   "cell_type": "code",
   "execution_count": null,
   "metadata": {
    "id": "0iBwYfBtHHBr"
   },
   "outputs": [],
   "source": [
    "PDF_URI = \"gs://cesummit_workshop_data/form.pdf\" #@param {type: \"string\"}"
   ]
  },
  {
   "cell_type": "code",
   "execution_count": null,
   "metadata": {
    "colab": {
     "base_uri": "https://localhost:8080/"
    },
    "id": "LiEgCOrHIL7Q",
    "outputId": "edbe5adb-40cc-44bd-abd4-4dc9b615224f"
   },
   "outputs": [],
   "source": [
    "# Download the doc\n",
    "!gsutil cp $PDF_URI ./form.pdf"
   ]
  },
  {
   "cell_type": "markdown",
   "metadata": {},
   "source": [
    "## Set your Processor Variables "
   ]
  },
  {
   "cell_type": "code",
   "execution_count": null,
   "metadata": {
    "id": "k3c1mTa6IOk3"
   },
   "outputs": [],
   "source": [
    "PROJECT_ID = \"google.com:ml-baguette-demos\"\n",
    "LOCATION = \"us\"  # Format is 'us' or 'eu'\n",
    "PROCESSOR_ID = \"e46132dfddbdc8f2\"  # Create processor in Cloud Console"
   ]
  },
  {
   "cell_type": "markdown",
   "metadata": {},
   "source": [
    "The following code calls the synchronous API and parses the form fields and values."
   ]
  },
  {
   "cell_type": "code",
   "execution_count": null,
   "metadata": {
    "id": "hO3yJpDoJ3Zf"
   },
   "outputs": [],
   "source": [
    "def process_document_sample():\n",
    "    # Instantiates a client\n",
    "    client = documentai.DocumentProcessorServiceClient()\n",
    "\n",
    "    # The full resource name of the processor, e.g.:\n",
    "    # projects/project-id/locations/location/processor/processor-id\n",
    "    # You must create new processors in the Cloud Console first\n",
    "    name = f\"projects/{PROJECT_ID}/locations/{LOCATION}/processors/{PROCESSOR_ID}\"\n",
    "\n",
    "    with open('form.pdf', \"rb\") as image:\n",
    "        image_content = image.read()\n",
    "\n",
    "    # Read the file into memory\n",
    "    document = {\"content\": image_content, \"mime_type\": \"application/pdf\"}\n",
    "\n",
    "    # Configure the process request\n",
    "    request = {\"name\": name, \"document\": document}\n",
    "\n",
    "    # Recognizes text entities in the PDF document\n",
    "    result = client.process_document(request=request)\n",
    "    document = result.document\n",
    "    print(\"Document processing complete.\\n\\n\")\n",
    "\n",
    "    # For a full list of Document object attributes, please reference this page: https://googleapis.dev/python/documentai/latest/_modules/google/cloud/documentai_v1beta3/types/document.html#Document    \n",
    "    document_pages = document.pages\n",
    "    keys = []\n",
    "    keysConf = []\n",
    "    values = []\n",
    "    valuesConf = []\n",
    "    \n",
    "    # Grab each key/value pair and their corresponding confidence scores.\n",
    "    for page in document_pages:\n",
    "        for form_field in page.form_fields:\n",
    "            fieldName=get_text(form_field.field_name,document)\n",
    "            keys.append(fieldName.replace(':', ''))\n",
    "            nameConfidence = round(form_field.field_name.confidence,4)\n",
    "            keysConf.append(nameConfidence)\n",
    "            fieldValue = get_text(form_field.field_value,document)\n",
    "            values.append(fieldValue.replace(':', ''))\n",
    "            valueConfidence = round(form_field.field_value.confidence,4)\n",
    "            valuesConf.append(valueConfidence)\n",
    "    \n",
    "    # Create a Pandas Dataframe to print the values in tabular format. \n",
    "    df = pd.DataFrame({'Key': keys, 'Key Conf': keysConf, 'Value': values, 'Value Conf': valuesConf}) \n",
    "    print(tabulate(df, headers='keys', tablefmt='psql'))\n",
    "\n",
    "    return document\n",
    "\n",
    "def get_text(doc_element: dict, document: dict):\n",
    "    \"\"\"\n",
    "    Document AI identifies form fields by their offsets\n",
    "    in document text. This function converts offsets\n",
    "    to text snippets.\n",
    "    \"\"\"\n",
    "    response = \"\"\n",
    "    # If a text segment spans several lines, it will\n",
    "    # be stored in different text segments.\n",
    "    for segment in doc_element.text_anchor.text_segments:\n",
    "        start_index = (\n",
    "            int(segment.start_index)\n",
    "            if segment in doc_element.text_anchor.text_segments\n",
    "            else 0\n",
    "        )\n",
    "        end_index = int(segment.end_index)\n",
    "        response += document.text[start_index:end_index]\n",
    "    return response\n",
    "\n"
   ]
  },
  {
   "cell_type": "code",
   "execution_count": null,
   "metadata": {},
   "outputs": [],
   "source": [
    "doc = process_document_sample()"
   ]
  },
  {
   "cell_type": "markdown",
   "metadata": {
    "id": "rjxTY06qnFnU"
   },
   "source": [
    "## Draw the bounding boxes\n",
    "We will now download the pdf above a jpg and use the spatial data to mark our values."
   ]
  },
  {
   "cell_type": "code",
   "execution_count": null,
   "metadata": {
    "id": "HjfbWczcnE_V"
   },
   "outputs": [],
   "source": [
    "JPG_URI = \"gs://cesummit_workshop_data/form.jpg\" #@param {type: \"string\"}"
   ]
  },
  {
   "cell_type": "code",
   "execution_count": null,
   "metadata": {},
   "outputs": [],
   "source": [
    "# Download the doc\n",
    "!gsutil cp $JPG_URI ./form.jpg"
   ]
  },
  {
   "cell_type": "code",
   "execution_count": null,
   "metadata": {
    "id": "NyHpYBN8_45g"
   },
   "outputs": [],
   "source": [
    "im = Image.open('form.jpg')\n",
    "draw = ImageDraw.Draw(im)\n",
    "for form_field in doc.pages[0].form_fields:\n",
    "    # Draw the bounding box around the form_fields\n",
    "    # First get the co-ords of the field name\n",
    "    vertices = []\n",
    "    for vertex in form_field.field_name.bounding_poly.normalized_vertices:\n",
    "      vertices.append({'x': vertex.x * im.size[0], 'y': vertex.y * im.size[1]})\n",
    "    draw.polygon([\n",
    "        vertices[0]['x'], vertices[0]['y'],\n",
    "        vertices[1]['x'], vertices[1]['y'],\n",
    "        vertices[2]['x'], vertices[2]['y'],\n",
    "        vertices[3]['x'], vertices[3]['y']], outline='red')\n",
    "    \n",
    "    vertices = []\n",
    "    for vertex in form_field.field_value.bounding_poly.normalized_vertices:\n",
    "        vertices.append({'x': vertex.x * im.size[0], 'y': vertex.y * im.size[1]})\n",
    "    draw.polygon([\n",
    "        vertices[0]['x'], vertices[0]['y'],\n",
    "        vertices[1]['x'], vertices[1]['y'],\n",
    "        vertices[2]['x'], vertices[2]['y'],\n",
    "        vertices[3]['x'], vertices[3]['y']], outline='blue')"
   ]
  },
  {
   "cell_type": "code",
   "execution_count": null,
   "metadata": {
    "id": "Kt6jzmisRefT"
   },
   "outputs": [],
   "source": [
    "im"
   ]
  }
 ],
 "metadata": {
  "colab": {
   "collapsed_sections": [],
   "name": "LendingAI Bouding Boxes v3.ipynb",
   "provenance": [],
   "toc_visible": true
  },
  "environment": {
   "name": "common-cpu.mnightly-2021-02-12-debian-10-test",
   "type": "gcloud",
   "uri": "gcr.io/deeplearning-platform-release/base-cpu:mnightly-2021-02-12-debian-10-test"
  },
  "kernelspec": {
   "display_name": "Python 3",
   "language": "python",
   "name": "python3"
  },
  "language_info": {
   "codemirror_mode": {
    "name": "ipython",
    "version": 3
   },
   "file_extension": ".py",
   "mimetype": "text/x-python",
   "name": "python",
   "nbconvert_exporter": "python",
   "pygments_lexer": "ipython3",
   "version": "3.7.9"
  }
 },
 "nbformat": 4,
 "nbformat_minor": 4
}
